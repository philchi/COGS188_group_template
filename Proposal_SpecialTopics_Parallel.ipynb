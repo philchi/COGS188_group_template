{
 "cells": [
  {
   "attachments": {},
   "cell_type": "markdown",
   "metadata": {},
   "source": [
    "# COGS 188 - Special Topics Proposal"
   ]
  },
  {
   "cell_type": "markdown",
   "metadata": {},
   "source": [
    "# Names\n",
    "\n",
    "Hopefully your team is at least this good. Obviously you should replace these with your names.\n",
    "\n",
    "- Ngoc (Lucy) Giang\n",
    "- Yu-Hsuan (Philip) Chi\n",
    "- Yicheng Qu"
   ]
  },
  {
   "attachments": {},
   "cell_type": "markdown",
   "metadata": {},
   "source": [
    "# Topic and outline\n",
    "\n",
    "### Main topic\n",
    "Synthetic gradients are a technique used in neural networks to facilitate model parallelism, enhancing training efficiency by decoupling layers within the network. This approach alleviates the bottleneck caused by traditional synchronous gradient descent, enabling faster and more scalable training.\n",
    "\n",
    "### Learning goal for students \n",
    "Students will be able to understand the concept of synthetic gradients and their potential role in enabling efficient model parallelism in neural networks.\n",
    "\n",
    "### Outline of the topic\n",
    "- Introduction to Neural Networks\n",
    "  - Neural Network Basics: Brief overview of neural network architecture and functionality.\n",
    "  - __Understanding Model Parallelism__: Explanation of the benefits of parallelizing neural network models.\n",
    "- Synthetic Gradients\n",
    "  - __The Challenge of Synchronous Training/Three Lockings__: Discussion on the limitations posed by synchronous gradient descent in parallel training scenarios.\n",
    "  - __Synthetic Gradient Concept__: Definition and intuition behind synthetic gradients.\n",
    "  - Implementation and Application: Overview of how synthetic gradients are integrated into neural network training algorithms.\n",
    "- Demonstrative Example\n",
    "  - Practical Demonstration: Application of synthetic gradients using a simple dataset, possibly CIFAR-10.\n",
    "  - Insights from Demonstration: Discussion on the observed improvements in training efficiency and scalability.\n",
    "\n",
    "### Additional notes\n",
    "- Given the varied backgrounds of students, we choose to include neural network basics in the outline. However, if most students are familiar with neural networks, we can skip this part.\n",
    "- We plan to focus on intuitive understanding rather than heavy mathematical details. We can cover a bit more on math if there is enough time.\n",
    "- Instead of using the example of RNN running on different time clocks (i.e. the example used in the essay), we might want to use an alternative example. So far, we are considering training a upstream and several downstream models simultaneously.\n",
    "  - This is mainly because we cannot assume students are familiar with back propagation through time and we are not planning to cover that.\n",
    "- It might be a bit hard for us to demonstrate how synthetic gradients speed up the training process but we can at least demonstrate that synthetic gradients work."
   ]
  },
  {
   "attachments": {},
   "cell_type": "markdown",
   "metadata": {},
   "source": [
    "# Pedagogy\n",
    "\n",
    "\n",
    "### Readings\n",
    "\n",
    "Jaderberg, M. (2016, August 29). Decoupled Neural Interfaces Using Synthetic Gradients. Google DeepMind. https://deepmind.google/discover/blog/decoupled-neural-interfaces-using-synthetic-gradients/  \n",
    "- This blog covers the high level concept behind synthetic gradients. It describes the problems people face when trying to train neural networks and how synthetic gradients would be able solve these problems. The mechanisms behind synthetic gradients and how they work on different models, like RNN, is also covered. Students are not required to understand the entirety of the blog. Having a basic understanding of the problems synthetic gradients are designed to solve is sufficient for the lecture.\n",
    "\n",
    "Jaderberg, M. (2017, July 3). Decoupled Neural Interfaces using Synthetic Gradients. https://arxiv.org/abs/1608.05343v2  \n",
    "- This paper covers synthetic gradient with much more mathematical detail than the blog. For people who are interested in the topic, this 16-page paper is where they would be able to learn the details not covered in the blog. For the purpose of the lecture, students are not required to finish the paper. A brief overview of the paper is sufficient.\n",
    "\n",
    "### Lecture description\n",
    "\n",
    "An overview of the topics and the order in which they would be covered in our presentation is as follows:  \n",
    "1. General overview of the workings of neural network\n",
    "2. Benefits of model parallelism\n",
    "3. The 3 locks mentioned in the paper and how they affect model parallelism\n",
    "4. Mechanism behind Synthetic Gradient\n",
    "5. Walkthrough the practical demo of Synthetic Gradients\n",
    "\n",
    "Each group member would cover one to two of the topics mentioned above. How the topics are allocated to each team member would be decided at a later time.\n",
    "\n",
    "\n",
    "### Active learning\n",
    "\n",
    "Demonstration of synthetic gradient using a simple dataset (possibly cifar10)  \n",
    "\n",
    "The demo would cover \n",
    "- how synthetic gradients is implemented\n",
    "- the benefits and disadvantages synthetic gradients bring to the model\n",
    "- the analysis of the differences between the model with and without synthetic gradients\n",
    "\n",
    "The demo would run for 25 minutes at the maximum\n",
    "\n"
   ]
  },
  {
   "attachments": {},
   "cell_type": "markdown",
   "metadata": {},
   "source": [
    "# Dates\n",
    "- June 3\n",
    "- June 5\n",
    "- June 7"
   ]
  },
  {
   "cell_type": "markdown",
   "metadata": {},
   "source": [
    "# Team Expectations "
   ]
  },
  {
   "cell_type": "markdown",
   "metadata": {},
   "source": [
    "Put things here that cement how you will interact/communicate as a team, how you will handle conflict and difficulty, how you will handle making decisions and setting goals/schedule, how much work you expect from each other, how you will handle deadlines, etc...\n",
    "* *Arrive to meetings on time*\n",
    "* *Communicate promptly with fellow team members regarding assistance or scheduling issues*\n",
    "* *Stay up to date with the group chat*\n",
    "* *Uphold a friendly, respectful and understanding environment within the group*\n",
    "* *Actively contribute to the project and complete the tasks assigned on time*"
   ]
  },
  {
   "cell_type": "markdown",
   "metadata": {},
   "source": [
    "# Project Timeline Proposal"
   ]
  },
  {
   "cell_type": "markdown",
   "metadata": {},
   "source": [
    "Replace this with something meaningful that is appropriate for your needs. It doesn't have to be something that fits this format.  It doesn't have to be set in stone... \"no battle plan survives contact with the enemy\". But you need a battle plan nonetheless, and you need to keep it updated so you understand what you are trying to accomplish, who's responsible for what, and what the expected due dates are for each item.\n",
    "\n",
    "| Meeting Date  | Meeting Time| Completed Before Meeting  | Discuss at Meeting |\n",
    "|---|---|---|---|\n",
    "| 4/29  |  4 PM |  Brainstorm topics for project  | Determine best form of communication; Discuss and decide on final project topic| \n",
    "| 5/6  |  4 PM |  Begin background research; Start working on proposal (all) | Finalize project proposal; Assign tasks for next steps | \n",
    "| 5/13  | 4 PM  | Brainstorm ideas on how to teach the class | Plan out structure to the class and discuss what material will be needed  |\n",
    "| 5/20  | 4 PM  | Begin researching/gathering material for the Special Topics class | Discuss findings and finalize plan for teaching   |\n",
    "| 5/27  | 4 PM  | Put together material for teaching the class | Review/Edit material made and discuss any necessary changes |\n",
    "| 5/31  | 4 PM  | Individually review material | Do a final run-through of the planned course |\n",
    "| 6/3-6/7  | During Class  | NA | Present Special Topic in-class |"
   ]
  }
 ],
 "metadata": {
  "kernelspec": {
   "display_name": "Python 3",
   "language": "python",
   "name": "python3"
  },
  "language_info": {
   "codemirror_mode": {
    "name": "ipython",
    "version": 3
   },
   "file_extension": ".py",
   "mimetype": "text/x-python",
   "name": "python",
   "nbconvert_exporter": "python",
   "pygments_lexer": "ipython3",
   "version": "3.7.11 (default, Jul 27 2021, 07:03:16) \n[Clang 10.0.0 ]"
  },
  "vscode": {
   "interpreter": {
    "hash": "40d3a090f54c6569ab1632332b64b2c03c39dcf918b08424e98f38b5ae0af88f"
   }
  }
 },
 "nbformat": 4,
 "nbformat_minor": 2
}
